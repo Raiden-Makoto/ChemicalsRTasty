{
  "nbformat": 4,
  "nbformat_minor": 0,
  "metadata": {
    "colab": {
      "provenance": [],
      "authorship_tag": "ABX9TyNSNmQrNW6b6hr0n07E6ZJd"
    },
    "kernelspec": {
      "name": "python3",
      "display_name": "Python 3"
    },
    "language_info": {
      "name": "python"
    }
  },
  "cells": [
    {
      "cell_type": "code",
      "execution_count": 2,
      "metadata": {
        "colab": {
          "base_uri": "https://localhost:8080/"
        },
        "id": "k7e5YtuUWjk6",
        "outputId": "dc63cbe9-f193-4d74-e99b-9c99ceff6b2b"
      },
      "outputs": [
        {
          "output_type": "stream",
          "name": "stdout",
          "text": [
            "\u001b[33mWARNING: deepchem 2.8.0 does not provide the extra 'rdkit'\u001b[0m\u001b[33m\n",
            "\u001b[0m\u001b[33mWARNING: deepchem 2.8.0 does not provide the extra 'lightning'\u001b[0m\u001b[33m\n",
            "\u001b[0m"
          ]
        }
      ],
      "source": [
        "!pip -q install rdkit-pypi torch_geometric deepchem[torch] deepchem[rdkit] deepchem[lightning]"
      ]
    },
    {
      "cell_type": "code",
      "source": [
        "import os\n",
        "import torch\n",
        "import torch.nn as nn\n",
        "import torch.nn.functional as F\n",
        "\n",
        "from torch_geometric.data import Data, Dataset, DataLoader\n",
        "from torch_geometric.nn.models import SchNet\n",
        "\n",
        "from rdkit import Chem\n",
        "from rdkit.Chem import AllChem"
      ],
      "metadata": {
        "id": "t3DtGz6ZWtrT"
      },
      "execution_count": 3,
      "outputs": []
    },
    {
      "cell_type": "code",
      "source": [
        "import logging\n",
        "import warnings\n",
        "\n",
        "# 1. Elevate DeepChem’s logger to ERROR (so it won’t show INFO/WARN messages)\n",
        "logging.getLogger(\"deepchem\").setLevel(logging.ERROR)\n",
        "\n",
        "# 2. Suppress Python warnings originating from DeepChem\n",
        "warnings.filterwarnings(\n",
        "    \"ignore\",\n",
        "    category=UserWarning,\n",
        "    module=r\"deepchem\\..*\"\n",
        ")\n",
        "\n",
        "# 3. (Optional) Also disable RDKit’s internal warnings if you’re using RDKit directly\n",
        "from rdkit import RDLogger\n",
        "RDLogger.DisableLog('rdApp.*')"
      ],
      "metadata": {
        "id": "yPXC6Ha-gj-a"
      },
      "execution_count": 4,
      "outputs": []
    },
    {
      "cell_type": "code",
      "source": [
        "import deepchem as dc"
      ],
      "metadata": {
        "colab": {
          "base_uri": "https://localhost:8080/"
        },
        "collapsed": true,
        "id": "LUh971i7YI9Y",
        "outputId": "1c62d028-c993-489d-e1ab-31419f4bd59a"
      },
      "execution_count": 5,
      "outputs": [
        {
          "output_type": "stream",
          "name": "stderr",
          "text": [
            "\u001b[34m\u001b[1mwandb\u001b[0m: \u001b[33mWARNING\u001b[0m W&B installed but not logged in.  Run `wandb login` or set the WANDB_API_KEY env variable.\n",
            "WARNING:tensorflow:From /usr/local/lib/python3.11/dist-packages/tensorflow/python/util/deprecation.py:588: calling function (from tensorflow.python.eager.polymorphic_function.polymorphic_function) with experimental_relax_shapes is deprecated and will be removed in a future version.\n",
            "Instructions for updating:\n",
            "experimental_relax_shapes is deprecated, use reduce_retracing instead\n",
            "\u001b[34m\u001b[1mwandb\u001b[0m: \u001b[33mWARNING\u001b[0m W&B installed but not logged in.  Run `wandb login` or set the WANDB_API_KEY env variable.\n"
          ]
        }
      ]
    },
    {
      "cell_type": "markdown",
      "source": [
        "Performing a scaffold split involves partitioning a chemical dataset based on common structure to ensure that the training and test sets contain distinct chemical structures while maintaining the diversity of scaffolds."
      ],
      "metadata": {
        "id": "HsGYGjkCZ4YJ"
      }
    },
    {
      "cell_type": "code",
      "source": [
        "tasks, datasets, transformers = dc.molnet.load_tox21(\n",
        "    featurizer='Raw', # returns only SMILES strings\n",
        "    splitter='scaffold',   # scaffold\n",
        "    reload=True\n",
        ")"
      ],
      "metadata": {
        "id": "VhgmG2SsXR8i"
      },
      "execution_count": 6,
      "outputs": []
    },
    {
      "cell_type": "code",
      "source": [
        "tasks"
      ],
      "metadata": {
        "colab": {
          "base_uri": "https://localhost:8080/"
        },
        "id": "OJs68DSVZ5br",
        "outputId": "f456aad4-8835-4186-9af6-e5376976f4b6"
      },
      "execution_count": 7,
      "outputs": [
        {
          "output_type": "execute_result",
          "data": {
            "text/plain": [
              "['NR-AR',\n",
              " 'NR-AR-LBD',\n",
              " 'NR-AhR',\n",
              " 'NR-Aromatase',\n",
              " 'NR-ER',\n",
              " 'NR-ER-LBD',\n",
              " 'NR-PPAR-gamma',\n",
              " 'SR-ARE',\n",
              " 'SR-ATAD5',\n",
              " 'SR-HSE',\n",
              " 'SR-MMP',\n",
              " 'SR-p53']"
            ]
          },
          "metadata": {},
          "execution_count": 7
        }
      ]
    },
    {
      "cell_type": "code",
      "source": [
        "train, valid, test = datasets"
      ],
      "metadata": {
        "id": "Jhb0q5VbaO92"
      },
      "execution_count": 8,
      "outputs": []
    },
    {
      "cell_type": "code",
      "source": [
        "def keep_datapoint(dp):\n",
        "    # dp.X is None if featurization failed, or an empty array if no features\n",
        "    return dp.X is not None and dp.X.size > 0\n",
        "\n",
        "# 1. Build a list of indices to keep\n",
        "train_idxs = [i for i in range(len(train)) if keep_datapoint(train.select([i]))]\n",
        "valid_idxs = [i for i in range(len(valid)) if keep_datapoint(valid.select([i]))]\n",
        "test_idxs  = [i for i in range(len(test)) if keep_datapoint(test.select([i]))]\n",
        "\n",
        "# 2. Select only those indices\n",
        "train_clean = train.select(train_idxs)\n",
        "valid_clean = valid.select(valid_idxs)\n",
        "test_clean  = test.select(test_idxs)\n",
        "\n",
        "print(f\"Cleaned sizes → train: {len(train_clean)}, valid: {len(valid_clean)}, test: {len(test_clean)}\")"
      ],
      "metadata": {
        "colab": {
          "base_uri": "https://localhost:8080/"
        },
        "id": "ey8c0ijZiXeS",
        "outputId": "e5479f62-624d-47dc-985c-d8f775c9d43d"
      },
      "execution_count": 18,
      "outputs": [
        {
          "output_type": "stream",
          "name": "stdout",
          "text": [
            "Cleaned sizes → train: 6258, valid: 782, test: 783\n"
          ]
        }
      ]
    },
    {
      "cell_type": "code",
      "source": [
        "train_clean.X[46]"
      ],
      "metadata": {
        "colab": {
          "base_uri": "https://localhost:8080/",
          "height": 167
        },
        "id": "PQd3LlR3krBT",
        "outputId": "2b96c438-7afd-4892-eb26-54dbf6a50f82"
      },
      "execution_count": 34,
      "outputs": [
        {
          "output_type": "execute_result",
          "data": {
            "text/plain": [
              "<rdkit.Chem.rdchem.Mol at 0x7b059ea10810>"
            ],
            "image/png": "[encoded data removed]"
          },
          "metadata": {},
          "execution_count": 34
        }
      ]
    },
    {
      "cell_type": "code",
      "source": [],
      "metadata": {
        "id": "lX7WAjtdlK4e"
      },
      "execution_count": null,
      "outputs": []
    }
  ]
}